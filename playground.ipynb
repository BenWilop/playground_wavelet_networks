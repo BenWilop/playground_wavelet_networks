{
 "cells": [
  {
   "cell_type": "code",
   "execution_count": 1,
   "metadata": {},
   "outputs": [
    {
     "name": "stderr",
     "output_type": "stream",
     "text": [
      "/homes/55/bwilop/gdl/wavelet_networks/wavelet_networks/wavelet_networks_venv/lib64/python3.6/site-packages/tqdm/auto.py:22: TqdmWarning: IProgress not found. Please update jupyter and ipywidgets. See https://ipywidgets.readthedocs.io/en/stable/user_install.html\n",
      "  from .autonotebook import tqdm as notebook_tqdm\n"
     ]
    },
    {
     "name": "stdout",
     "output_type": "stream",
     "text": [
      "Sampling frequency : 22050\n",
      "Sampling frequency : 22050\n",
      "Sampling frequency : 22050\n",
      "Train set size: 7895\n",
      "Val set size: 837\n",
      "Test set size: 837\n",
      "tensor([[  1.],\n",
      "        [  2.],\n",
      "        [  4.],\n",
      "        [  8.],\n",
      "        [ 16.],\n",
      "        [ 32.],\n",
      "        [ 64.],\n",
      "        [128.],\n",
      "        [256.]])\n",
      "tensor([[1.]])\n",
      "tensor([[1.],\n",
      "        [2.],\n",
      "        [4.]])\n"
     ]
    },
    {
     "data": {
      "text/plain": [
       "<All keys matched successfully>"
      ]
     },
     "execution_count": 1,
     "metadata": {},
     "output_type": "execute_result"
    }
   ],
   "source": [
    "import torch as t\n",
    "import experiments.UrbanSound8K.models as models\n",
    "import experiments.UrbanSound8K.dataset as dataset\n",
    "import experiments.UrbanSound8K.tester as tester\n",
    "from collections import OrderedDict\n",
    "\n",
    "dataloaders, test_loader = dataset.get_dataset(batch_size=8, num_workers=1)\n",
    "\n",
    "path = \"/homes/55/bwilop/gdl/wavelet_networks/wavelet_networks/experiments/UrbanSound8K/saved/model_RR+_M11_optim_adam_lr_0.001_wd_0.0001_seed_0_test10/model.pth\"\n",
    "\n",
    "state_dict = t.load(path)\n",
    "new_state_dict = OrderedDict()\n",
    "for key, value in state_dict.items():\n",
    "    new_key = key.replace(\"module.\", \"\")  # remove the prefix\n",
    "    new_state_dict[new_key] = value\n",
    "\n",
    "\n",
    "model = models.RRPlus_M11()\n",
    "model.load_state_dict(new_state_dict)\n",
    "\n",
    "# tester.test(model, test_loader, \"cuda\")"
   ]
  },
  {
   "cell_type": "code",
   "execution_count": null,
   "metadata": {},
   "outputs": [
    {
     "name": "stdout",
     "output_type": "stream",
     "text": [
      "tensor([[  1.],\n",
      "        [  2.],\n",
      "        [  4.],\n",
      "        [  8.],\n",
      "        [ 16.],\n",
      "        [ 32.],\n",
      "        [ 64.],\n",
      "        [128.],\n",
      "        [256.]])\n",
      "tensor([[1.],\n",
      "        [2.],\n",
      "        [4.]])\n",
      "Let's use 6 GPUs!\n"
     ]
    },
    {
     "name": "stderr",
     "output_type": "stream",
     "text": [
      "/homes/55/bwilop/gdl/wavelet_networks/wavelet_networks/wavelet_networks_venv/lib64/python3.6/site-packages/torch/nn/parallel/data_parallel.py:30: UserWarning: \n",
      "    There is an imbalance between your GPUs. You may want to exclude GPU 2 which\n",
      "    has less than 75% of the memory or cores of GPU 0. You can do so by setting\n",
      "    the device_ids argument to DataParallel, or by setting the CUDA_VISIBLE_DEVICES\n",
      "    environment variable.\n",
      "  warnings.warn(imbalance_warn.format(device_ids[min_pos], device_ids[max_pos]))\n"
     ]
    },
    {
     "name": "stdout",
     "output_type": "stream",
     "text": [
      "Sampling frequency : 22050\n",
      "Sampling frequency : 22050\n",
      "Sampling frequency : 22050\n",
      "Train set size: 7895\n",
      "Val set size: 837\n",
      "Test set size: 837\n",
      "Namespace(batch_size=8, device='cuda:0', epochs=400, extra_comment='', lr=0.001, model='RR+_M3', optim='adam', path='./saved/model_RR+_M3_optim_adam_lr_0.001_wd_0.0001_seed_0/model.pth', pretrained=False, seed=0, warm_up=False, wavelet_loss=False, weight_decay=0.0001)\n",
      "2025-03-23 22:33:35.461341\n",
      "Epoch 1/400\n",
      "------------------------------\n",
      "Learning Rate: 0.001\n",
      "------------------------------\n",
      "2.317331410944462\n",
      "2.2912057265639305\n",
      "2.278434842824936\n",
      "2.2581593552604318\n",
      "2.2471123829483988\n",
      "2.236585491026441\n",
      "2.2289585173130035\n"
     ]
    }
   ],
   "source": [
    "import experiments.UrbanSound8K.parser as parser\n",
    "import experiments.UrbanSound8K.run_experiment as run_experiments\n",
    "\n",
    "# Train\n",
    "parser_obj = parser._get_parser()\n",
    "\n",
    "# Use parse_known_args() to ignore unknown arguments\n",
    "args, unknown = parser_obj.parse_known_args()\n",
    "\n",
    "run_experiments.main(args)"
   ]
  },
  {
   "cell_type": "code",
   "execution_count": null,
   "metadata": {},
   "outputs": [
    {
     "ename": "",
     "evalue": "",
     "output_type": "error",
     "traceback": [
      "\u001b[1;31mnotebook controller is DISPOSED. \n",
      "\u001b[1;31mView Jupyter <a href='command:jupyter.viewOutput'>log</a> for further details."
     ]
    },
    {
     "ename": "",
     "evalue": "",
     "output_type": "error",
     "traceback": [
      "\u001b[1;31mnotebook controller is DISPOSED. \n",
      "\u001b[1;31mView Jupyter <a href='command:jupyter.viewOutput'>log</a> for further details."
     ]
    },
    {
     "ename": "",
     "evalue": "",
     "output_type": "error",
     "traceback": [
      "\u001b[1;31mnotebook controller is DISPOSED. \n",
      "\u001b[1;31mView Jupyter <a href='command:jupyter.viewOutput'>log</a> for further details."
     ]
    },
    {
     "ename": "",
     "evalue": "",
     "output_type": "error",
     "traceback": [
      "\u001b[1;31mnotebook controller is DISPOSED. \n",
      "\u001b[1;31mView Jupyter <a href='command:jupyter.viewOutput'>log</a> for further details."
     ]
    },
    {
     "ename": "",
     "evalue": "",
     "output_type": "error",
     "traceback": [
      "\u001b[1;31mnotebook controller is DISPOSED. \n",
      "\u001b[1;31mView Jupyter <a href='command:jupyter.viewOutput'>log</a> for further details."
     ]
    },
    {
     "ename": "",
     "evalue": "",
     "output_type": "error",
     "traceback": [
      "\u001b[1;31mnotebook controller is DISPOSED. \n",
      "\u001b[1;31mView Jupyter <a href='command:jupyter.viewOutput'>log</a> for further details."
     ]
    }
   ],
   "source": []
  }
 ],
 "metadata": {
  "kernelspec": {
   "display_name": "Python (wavelet_networks_venv)",
   "language": "python",
   "name": "wavelet_networks_venv"
  },
  "language_info": {
   "codemirror_mode": {
    "name": "ipython",
    "version": 3
   },
   "file_extension": ".py",
   "mimetype": "text/x-python",
   "name": "python",
   "nbconvert_exporter": "python",
   "pygments_lexer": "ipython3",
   "version": "3.6.8"
  }
 },
 "nbformat": 4,
 "nbformat_minor": 2
}
